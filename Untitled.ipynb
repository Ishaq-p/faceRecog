{
 "cells": [
  {
   "cell_type": "code",
   "execution_count": 1,
   "id": "47df87d6",
   "metadata": {},
   "outputs": [],
   "source": [
    "import face_recognition as fr\n",
    "import cv2\n",
    "\n",
    "import numpy as np\n",
    "import os"
   ]
  },
  {
   "cell_type": "code",
   "execution_count": 34,
   "id": "8d5d3e5c",
   "metadata": {},
   "outputs": [],
   "source": [
    "path = \"./train/\"\n",
    "\n",
    "known_names = []\n",
    "known_name_encodings = []\n",
    "\n",
    "images = os.listdir(path)"
   ]
  },
  {
   "cell_type": "code",
   "execution_count": 3,
   "id": "35ee4c85",
   "metadata": {
    "scrolled": true
   },
   "outputs": [
    {
     "data": {
      "text/plain": [
       "['akbar8.jpg',\n",
       " 'ishaq14.jpg',\n",
       " 'moez2.jpg',\n",
       " 'ishaq12.jpg',\n",
       " 'ishaq15.jpg',\n",
       " 'ishaq4.jpg',\n",
       " 'obama.jpg',\n",
       " 'akbar1.jpg',\n",
       " 'yousuf1.jpg',\n",
       " 'akbar4.jpg',\n",
       " 'ishaq1.jpg',\n",
       " 'zayn1.jpg',\n",
       " 'akbar3.jpg',\n",
       " 'danish.jpg',\n",
       " 'ishaq11.jpg',\n",
       " 'najla2.jpeg',\n",
       " 'yousuf2.jpg',\n",
       " 'aimal1.jpg',\n",
       " 'danish1.jpg',\n",
       " 'ishaq3.jpg',\n",
       " 'akbar2.jpg',\n",
       " 'hamza1.jpg',\n",
       " 'najla1.jpg',\n",
       " 'aimal4.jpg',\n",
       " 'trump.jpg',\n",
       " 'akbar5.jpg',\n",
       " 'sharif1.jpg',\n",
       " 'moez1.jpeg',\n",
       " 'aimal3.jpg',\n",
       " 'sayla2.jpg',\n",
       " 'ishaq10.jpg',\n",
       " 'ishaq2.jpg',\n",
       " 'sayla1.jpg',\n",
       " 'najla4.jpg',\n",
       " 'ishaq9.jpg',\n",
       " 'moez3.jpg',\n",
       " 'akbar7.jpg',\n",
       " 'ryan1.jpg',\n",
       " 'ishaq5.jpg',\n",
       " 'aimal2.jpg',\n",
       " 'sayla3.jpg',\n",
       " 'ishaq8.jpg',\n",
       " 'danish3.jpg',\n",
       " 'ishaq7.jpg',\n",
       " 'najla3.jpg',\n",
       " 'ishaq13.jpg']"
      ]
     },
     "execution_count": 3,
     "metadata": {},
     "output_type": "execute_result"
    }
   ],
   "source": [
    "images"
   ]
  },
  {
   "cell_type": "code",
   "execution_count": 35,
   "id": "450c5e40",
   "metadata": {},
   "outputs": [],
   "source": [
    "for _ in images:\n",
    "    image = fr.load_image_file(path + _)\n",
    "    image_path = path + _\n",
    "    encodings = fr.face_encodings(image)\n",
    "    if len(encodings) > 0:\n",
    "        encoding = encodings[0]\n",
    "        known_name_encodings.append(encoding)\n",
    "        known_names.append(os.path.splitext(os.path.basename(image_path))[0].capitalize())\n"
   ]
  },
  {
   "cell_type": "code",
   "execution_count": 5,
   "id": "1ea5144f",
   "metadata": {
    "scrolled": true
   },
   "outputs": [
    {
     "data": {
      "text/plain": [
       "['obama.jpg',\n",
       " 'fam8.jpg',\n",
       " 'fam10.jpg',\n",
       " '3.jpg',\n",
       " 'test.jpg',\n",
       " 'fam4.jpg',\n",
       " 'frnds2.jpg',\n",
       " 'fam6.jpg',\n",
       " 'fam9.jpg',\n",
       " 'trump.jpg',\n",
       " 'fam1.jpg',\n",
       " 'frnds4.jpg',\n",
       " 'fam2.jpg',\n",
       " 'popFrnds.jpg',\n",
       " 'popFrnds2.jpg',\n",
       " 'fam3.jpg',\n",
       " 'frnds1.jpg',\n",
       " 'fam5.jpg',\n",
       " 'me.jpg',\n",
       " 'fam11.jpg',\n",
       " 'fam7.jpg',\n",
       " 'popFrnds3.jpg']"
      ]
     },
     "execution_count": 5,
     "metadata": {},
     "output_type": "execute_result"
    }
   ],
   "source": [
    "path1 = \"./test/\"\n",
    "test_img = os.listdir(path1)\n",
    "test_img"
   ]
  },
  {
   "cell_type": "code",
   "execution_count": null,
   "id": "261723b7",
   "metadata": {},
   "outputs": [],
   "source": []
  },
  {
   "cell_type": "code",
   "execution_count": null,
   "id": "94734549",
   "metadata": {},
   "outputs": [],
   "source": []
  },
  {
   "cell_type": "code",
   "execution_count": 46,
   "id": "813eabe6",
   "metadata": {},
   "outputs": [],
   "source": [
    "test_image = \"./test/fam7.jpg\"\n",
    "image = cv2.imread(test_image)\n",
    "\n",
    "face_locations = fr.face_locations(image)\n",
    "face_encodings = fr.face_encodings(image, face_locations)\n",
    "\n",
    "\n",
    "for (top, right, bottom, left), face_encoding in zip(face_locations, face_encodings):\n",
    "    matches = fr.compare_faces(known_name_encodings, face_encoding)\n",
    "    name = \"\"\n",
    "\n",
    "    face_distances = fr.face_distance(known_name_encodings, face_encoding)\n",
    "    best_match = np.argmin(face_distances)\n",
    "\n",
    "    if matches[best_match]:\n",
    "        name = known_names[best_match]\n",
    "    else:\n",
    "        name = \"Stranger\"\n",
    "        \n",
    "    precision_percentage = 100 - (face_distances[best_match] * 100)\n",
    "\n",
    "    cv2.rectangle(image, (left, top), (right, bottom), (0, 0, 255), 2)\n",
    "    cv2.rectangle(image, (left, bottom - 15), (right, bottom), (0, 0, 255), cv2.FILLED)\n",
    "\n",
    "    font = cv2.FONT_HERSHEY_DUPLEX\n",
    "    cv2.putText(image, f\"{name} ({precision_percentage:.2f}%)\", (left + 6, bottom - 6), font, 1.3, (255, 255, 255), 1)\n"
   ]
  },
  {
   "cell_type": "code",
   "execution_count": 47,
   "id": "215b4015",
   "metadata": {},
   "outputs": [
    {
     "data": {
      "text/plain": [
       "True"
      ]
     },
     "execution_count": 47,
     "metadata": {},
     "output_type": "execute_result"
    }
   ],
   "source": [
    "#cv2.imshow(\"Result\", image)\n",
    "cv2.imwrite(\"./output/output1.jpg\", image)\n",
    "#cv2.waitKey(0)\n",
    "#cv2.destroyAllWindows()"
   ]
  },
  {
   "cell_type": "code",
   "execution_count": null,
   "id": "50a83d84",
   "metadata": {},
   "outputs": [],
   "source": []
  }
 ],
 "metadata": {
  "kernelspec": {
   "display_name": "Python 3 (ipykernel)",
   "language": "python",
   "name": "python3"
  },
  "language_info": {
   "codemirror_mode": {
    "name": "ipython",
    "version": 3
   },
   "file_extension": ".py",
   "mimetype": "text/x-python",
   "name": "python",
   "nbconvert_exporter": "python",
   "pygments_lexer": "ipython3",
   "version": "3.10.6"
  }
 },
 "nbformat": 4,
 "nbformat_minor": 5
}
